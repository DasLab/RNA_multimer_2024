{
 "cells": [
  {
   "cell_type": "code",
   "execution_count": 17,
   "id": "0a5c8870-8193-4b87-9829-c8ea64f143ef",
   "metadata": {},
   "outputs": [],
   "source": [
    "from glob import glob\n",
    "import numpy as np\n",
    "import pandas as pd\n",
    "from scipy import stats\n"
   ]
  },
  {
   "cell_type": "code",
   "execution_count": 18,
   "id": "4accf076-f9df-4848-b5c0-528a9ca5f53e",
   "metadata": {},
   "outputs": [
    {
     "name": "stdout",
     "output_type": "stream",
     "text": [
      "bioanalyzer/data_export/Eukaryote Total RNA Nano_2023-12-07_15-03-29_Ladder-peaks.csv\n",
      "-0.011622864915385629 0.06121212439684324 -0.9990573119632992 5.237867043400352e-08 0.0002258574424183162\n",
      "log(nt) = -86.04((1/time)-0.0612)\n",
      "bioanalyzer/data_export/Eukaryote Total RNA Nano_2024-04-02_15-17-51_Ladder-peaks.csv\n",
      "-0.01155777299192757 0.06104726925690548 -0.999342227953112 2.1305381774954705e-08 0.0001875668974930757\n",
      "log(nt) = -86.52((1/time)-0.061)\n",
      "bioanalyzer/data_export/Eukaryote Total RNA Nano_2024-04-17_12-58-50_Ladder-peaks.csv\n",
      "-0.011604048015070596 0.061161197687038954 -0.9992236328273593 3.2243419789068766e-08 0.00020460963858015663\n",
      "log(nt) = -86.18((1/time)-0.0612)\n"
     ]
    }
   ],
   "source": [
    "# Get bioanlyzer ladder\n",
    "nano_ladder = [25,200,500,1000,2000,4000,6000] # they just do linear fit\n",
    "\n",
    "ladder_data = []\n",
    "for ladder_file in glob('bioanalyzer/data_export/*Ladder-peaks.csv'):\n",
    "    ladder = pd.read_csv(ladder_file)\n",
    "    ladder_top6 = ladder.sort_values('Time corrected area',ascending = False).head(7)['Aligned Migration Time [s]'].sort_values().to_list()\n",
    "    for time,nt in zip(ladder_top6,nano_ladder):\n",
    "        ladder_data.append([ladder_file,1/time,nt])\n",
    "ladder_data = pd.DataFrame(ladder_data,columns = ['ladder_file', 'inverse_migration_time_s', 'length_nt'])\n",
    "\n",
    "\n",
    "ladder_dict = {}\n",
    "for file,df in ladder_data.groupby('ladder_file'):\n",
    "    print(file)\n",
    "    slope, intercept, r_value, p_value, std_err = stats.linregress(np.log10(df['length_nt']),df['inverse_migration_time_s'])\n",
    "    print(slope, intercept, r_value, p_value, std_err)\n",
    "    print(f'log(nt) = {(1/slope).round(2)}((1/time)-{intercept.round(4)})')\n",
    "    ladder_dict[file.replace('\\\\','/')[:-17]] = (1/slope,intercept)\n"
   ]
  },
  {
   "cell_type": "code",
   "execution_count": 28,
   "id": "11299bb0-59a1-48c3-877b-53baac8514c8",
   "metadata": {},
   "outputs": [],
   "source": [
    "# Get bioanlyzer data, and match to linearly fit ladder\n",
    "\n",
    "bioanlyzer_data = pd.read_csv('bioanalyzer/bioanalyzer_locations_summary.csv')\n",
    "\n",
    "for ind,row in bioanlyzer_data.iterrows():\n",
    "    if row.length != row.length:\n",
    "        continue\n",
    "    slope,intercept = ladder_dict['bioanalyzer/'+row.run_name]\n",
    "    data = pd.read_csv(f'bioanalyzer/{row.run_name}_Sample{row.run_index}.csv',header=13)[:-1].astype(float).sort_values('Time',ascending=False)\n",
    "    data['log(nt)'] = slope*((1/data.Time)-intercept)\n",
    "    data['nt'] = 10**data['log(nt)']\n",
    "    data['name'] = row.sample_name\n",
    "    lad = pd.read_csv(f'bioanalyzer/{row.run_name}_Ladder.csv',header=13)[:-1].astype(float).sort_values('Time',ascending=False)\n",
    "    lad['log(nt)'] = slope*((1/lad.Time)-intercept)\n",
    "    lad['nt'] = 10**lad['log(nt)']\n",
    "    lad['name'] = 'Ladder'\n",
    "    data = pd.concat([lad,data]).reset_index()\n",
    "    data = data.pivot_table(index=\"nt\", columns=\"name\", values=\"Value\",sort=False)\n",
    "    data = data.reindex(columns=['Ladder',row.sample_name])\n",
    "    data.to_csv(f'source_tables_for_supplement/bioanlyzer_{row.sample_name}__{row.run_name.split(\"Nano_\")[1]}.csv')\n"
   ]
  },
  {
   "cell_type": "code",
   "execution_count": 49,
   "id": "969088b9-a7f7-4fc0-8e17-4cd4d4a0118b",
   "metadata": {},
   "outputs": [],
   "source": [
    "# DLS\n",
    "\n",
    "def save_data(sample,folder):\n",
    "    num_reps = 2\n",
    "    num_aqs = 10\n",
    "    outliers=[]\n",
    "    concentrations=[0.03]\n",
    "    temperatures = [25,35,45,55,65,75]\n",
    "    \n",
    "    # temperatures in C\n",
    "    \n",
    "    # read in all data\n",
    "    df = []\n",
    "    temp_index = 0\n",
    "    for conc in concentrations:\n",
    "        for Tn in range(1,len(temperatures)+1):\n",
    "            rep_start = 1\n",
    "            rep_end = num_reps+1\n",
    "            for rep in range(rep_start,rep_end):\n",
    "                for aq in range(1,num_aqs+1):\n",
    "                    if (conc,temperatures[temp_index],rep,aq) not in outliers:\n",
    "                        try:\n",
    "                            temp = pd.read_excel(f'{folder}/{sample}_{conc}_HEPES + MgCl2 ({Tn})/Replicate {rep}/Acquisition {aq}/{sample}_{conc}_HEPES + MgCl2 ({Tn}) - {rep}.xlsx')\n",
    "                        except:\n",
    "                            temp = pd.read_excel(f'{folder}/{sample}_{conc}_Hepes + MgCl2 ({Tn})/Replicate {rep}/Acquisition {aq}/{sample}_{conc}_Hepes + MgCl2 ({Tn}) - {rep}.xlsx')\n",
    "    \n",
    "                        temp['sample'] = sample\n",
    "                        temp['concentration'] = conc\n",
    "                        temp['temperature'] = temperatures[temp_index]\n",
    "                        \n",
    "                        temp['replicate'] = rep\n",
    "                        temp['acquisition'] = aq\n",
    "                        temp['normalized_frequency']= temp['Relative frequency [%]']/temp['Relative frequency [%]'].sum()\n",
    "                        df.append(temp)\n",
    "            temp_index += 1\n",
    "    df = pd.concat(df)\n",
    "    \n",
    "    \n",
    "    \n",
    "    for conc,df_conc in df.groupby(\"concentration\"):\n",
    "        i = concentrations[::-1].index(conc)\n",
    "        if folder=='Export_2024-04-19_09-26-36':\n",
    "            missed_T = [20,30,70]\n",
    "            for T in missed_T:\n",
    "                df_conc = pd.concat([pd.DataFrame([[df_conc[\"Radius [nm]\"].min(),0,'dummy',conc,T,1,1]], columns=df_conc.columns), df_conc], ignore_index=True)\n",
    "        #if normalize:\n",
    "        #    piv = pd.pivot_table(df_conc, values=\"normalized_frequency\", index=\"Radius [nm]\", columns=\"temperature\", aggfunc='mean', sort=True)\n",
    "        piv = pd.pivot_table(df_conc, values=\"Relative frequency [%]\", index=\"Radius [nm]\", columns=\"temperature\", aggfunc='mean', sort=True)\n",
    "    piv.to_csv(f'source_tables_for_supplement/DLS_{sample}.csv')\n",
    "\n",
    "\n",
    "sample='GOLLDa_Full'\n",
    "folder='dynamic_light_scattering/DLS_data/GOLLDa-Export_2024-03-09_18-20-01'\n",
    "save_data(sample,folder)\n",
    "sample='ROOL_120'\n",
    "folder='dynamic_light_scattering/DLS_data/ROOL120_Export_2024-03-09_18-05-01'\n",
    "save_data(sample,folder)"
   ]
  },
  {
   "cell_type": "code",
   "execution_count": 56,
   "id": "da32b9fb-4d02-4cf4-afe1-424ed627a212",
   "metadata": {},
   "outputs": [
    {
     "name": "stdout",
     "output_type": "stream",
     "text": [
      "['gollda-10ulbuffer-2ulblack-2weeks'\n",
      " 'rool120-75-gollda-25-10ulbuffer-2ulbuffer-try2'\n",
      " 'rool120-gollda-10ulbuffer-2ulbuffer'\n",
      " 'rool120-25-gollda-75-10ulbuffer-2ulbuffer' 'sample38-10x'\n",
      " 'rool120-10ulbuffer-2ulblack-2weeks'\n",
      " 'rool120-25-gollda-75-10ulbuffer-2ulbuffer-try2'\n",
      " 'rool120-75-gollda-25-10ulbuffer-2ulbuffer'\n",
      " 'rool120-gollda-10ulbuffer-2ulbuffer_collect2' 'rnaladder_startround3'\n",
      " 'sample28--10x']\n",
      "['OLE_100mM-MgCl2' 'OLE_10mM-MgCl2_v1' 'RNAladder_10mM-MgCl2_200mM-NaCl'\n",
      " 'RNAladder_0mM-MgCl2_200mM-NaCl' 'raiA_01_v2' 'raiA_02_v2'\n",
      " 'RNAladder_100mM-MgCl2_v3' 'RNAladder_1percentEtOH' 'RNAladder_0mM-MgCl2'\n",
      " 'RNAladder_10mM-MgCl2_200mM-KCl' 'OLE_0mM-MgCl2_200mM-KCl'\n",
      " 'OLE_0mM-MgCl2' 'RNAladder_0mM-MgCl2_200mM-KCl' 'raiA_01_v1'\n",
      " 'OLE_0mM-MgCl2_200mM-NaCl' 'RNAladder_10mM-MgCl2' 'raiA_02_v1'\n",
      " 'RNAladder_5percentEtOH' 'OLE_10mM-MgCl2_200mM-KCl' 'OLE_10mM-MgCl2_v2'\n",
      " 'OLE_10mM-MgCl2_200mM-NaCl' 'OLE_1mM-MgCl2' 'buffer_10mM-MgCl2'\n",
      " 'OLE_1percentEtOH' 'RNAladder_100mM-MgCl2_v2' 'OLE_5percentEtOH'\n",
      " 'RNAladder_100mM-MgCl2_v1' 'RNAladder_1mM-MgCl2']\n"
     ]
    }
   ],
   "source": [
    "# MP\n",
    "# get data\n",
    "all_data = []\n",
    "all_names = []\n",
    "files =glob(\"mass_photometry/rool_golld_mp_data/*events.csv\")\n",
    "for file in files:\n",
    "    df = pd.read_csv(file)\n",
    "    vals = df.calibrated_values.to_numpy()\n",
    "    vals = vals[~np.isnan(vals)]\n",
    "    name = file[39:-11]\n",
    "    all_data.extend(vals)\n",
    "    all_names.extend([name]*len(vals))\n",
    "all_df_cage = pd.DataFrame(np.array([all_data,all_names]).T,columns=['nt','name'])\n",
    "all_df_cage = all_df_cage.astype({'nt':float})\n",
    "print(all_df_cage.name.unique())\n",
    "\n",
    "all_data = []\n",
    "all_names = []\n",
    "files =glob(\"mass_photometry/ole_raiA_mp_data/*events.csv\")\n",
    "for file in files:\n",
    "    df = pd.read_csv(file)\n",
    "    vals = df.calibrated_values.to_numpy()\n",
    "    vals = vals[~np.isnan(vals)]\n",
    "    name = file[37:-11]\n",
    "    all_data.extend(vals)\n",
    "    all_names.extend([name]*len(vals))\n",
    "all_df = pd.DataFrame(np.array([all_data,all_names]).T,columns=['nt','name'])\n",
    "all_df = all_df.astype({'nt':float})\n",
    "print(all_df.name.unique())"
   ]
  },
  {
   "cell_type": "code",
   "execution_count": 57,
   "id": "10d7a576-a4b8-4cfe-9085-933b64aa346f",
   "metadata": {},
   "outputs": [],
   "source": [
    "pd.concat([all_df_cage,all_df]).to_csv(f'source_tables_for_supplement/mass_photometry_events.csv',index=False)"
   ]
  },
  {
   "cell_type": "code",
   "execution_count": null,
   "id": "2dc26465-9d82-4257-ba3a-c894b1065cb6",
   "metadata": {},
   "outputs": [],
   "source": []
  }
 ],
 "metadata": {
  "kernelspec": {
   "display_name": "Python 3 (ipykernel)",
   "language": "python",
   "name": "python3"
  },
  "language_info": {
   "codemirror_mode": {
    "name": "ipython",
    "version": 3
   },
   "file_extension": ".py",
   "mimetype": "text/x-python",
   "name": "python",
   "nbconvert_exporter": "python",
   "pygments_lexer": "ipython3",
   "version": "3.8.16"
  }
 },
 "nbformat": 4,
 "nbformat_minor": 5
}
